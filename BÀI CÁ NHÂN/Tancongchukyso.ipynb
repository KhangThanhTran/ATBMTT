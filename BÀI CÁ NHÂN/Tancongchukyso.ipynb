{
 "cells": [
  {
   "cell_type": "code",
   "execution_count": 1,
   "id": "ef5bf924",
   "metadata": {},
   "outputs": [
    {
     "name": "stdout",
     "output_type": "stream",
     "text": [
      "Public key:  (n=0xb9668f84164deee3564c348c0cbb3708f019a293061c2e7239f5353d63d19d4c94d20d09bcd7c3ee083c7ecdb204004b3fe1d426d589031f3f0c273c2abc2ed65ad38fe2c879e4566f0f0ecc70253c69841ac53e68669fa204a51a74e160f939a7d5dd43a9746d6f33d010c61361a3d41d3aceaf29a6e15114048d58fc11e46d, e=0x10001)\n",
      "Private key: (n=0xb9668f84164deee3564c348c0cbb3708f019a293061c2e7239f5353d63d19d4c94d20d09bcd7c3ee083c7ecdb204004b3fe1d426d589031f3f0c273c2abc2ed65ad38fe2c879e4566f0f0ecc70253c69841ac53e68669fa204a51a74e160f939a7d5dd43a9746d6f33d010c61361a3d41d3aceaf29a6e15114048d58fc11e46d, d=0x306968864c30b375677e64a64158cd8926f0fab3bb7fb65d1b673d2cb798efa324a528c4672c4c3c26a86d5016f0d686cfba8f6448940b5da85feb0ad9f9e39ca14b143854721c7c446b44cfb43f96dcd6dacf73b8c629d88541961a76991c45dca7b07936da5c07dee8ad5474fd186d865adbf5c7b76205774f67901bc6ef3d)\n"
     ]
    }
   ],
   "source": [
    "#Đầu tiên tạo được khóa công khai và khóa bí mật 1024bit (2048bit)\n",
    "#Khóa công khai là cặp (e,n). \n",
    "#Hàm mã hóa: encrypt(m) = m^e mod n = m^17 mod 3233, với m là văn bản rõ\n",
    "#Khóa bị mật là cặp (d,n)\n",
    "#Hàm giải mã: encrypt(c) = c^d mod n = c^2753 mod 3233, với c là văn bản mã\n",
    "\n",
    "from Crypto.PublicKey import RSA\n",
    "\n",
    "keyPair = RSA.generate(bits=1024)\n",
    "print(f\"Public key:  (n={hex(keyPair.n)}, e={hex(keyPair.e)})\")\n",
    "print(f\"Private key: (n={hex(keyPair.n)}, d={hex(keyPair.d)})\")"
   ]
  },
  {
   "cell_type": "code",
   "execution_count": 2,
   "id": "d31f4c00",
   "metadata": {},
   "outputs": [
    {
     "name": "stdout",
     "output_type": "stream",
     "text": [
      "Signature: 0x7f7ce273312ed556e1a7484a0e5dbe4e565d30dc4bdbf83b93a0ef9aca06d5025846125cbf6bba375bcda317bd658a28c5809acf7b4e36b9d13741e118b92f008e4447f5de98ed0745c418b885564052b5f843c9b8201f1428dd41425dc9ab4758d42bd04f508e3f39d25cce82de651f3dcc79d87803f2ab83436370766ded87\n"
     ]
    }
   ],
   "source": [
    "#Ký một tin nhắn bằng khóa riêng RSA {n,d}\n",
    "#Chữ ký số thu được sẽ là một số nguyên trong phạm vi độ dài khóa RSA [0...n]\n",
    "#Chữ ký là số nguyên 1024 bit(126 byte, 256 chữ số hex). Kích thước chữ ký này tương ứng với kích thước khóa RSA\n",
    "#Tính hàm băm và lũy thừa mô đun (d modul n) = hàm tích hợp pow(x,y,n) trong python\n",
    "message = b'Hello Ngoc Huyen. I am Thanh Khang'\n",
    "#import hàm băm. Lý do sử dụng hàm băm sha512 bởi vì vừa với kích thước khóa RSA (1024bit)\n",
    "from hashlib import sha512\n",
    "hash = int.from_bytes(sha512(message).digest(), byteorder='big')\n",
    "signature = pow(hash, keyPair.d, keyPair.n)\n",
    "print(\"Signature:\", hex(signature))"
   ]
  },
  {
   "cell_type": "code",
   "execution_count": 11,
   "id": "38035dd5",
   "metadata": {},
   "outputs": [
    {
     "name": "stdout",
     "output_type": "stream",
     "text": [
      "Nice, the signature is valid! True\n"
     ]
    }
   ],
   "source": [
    "#Xác minh chữ ký, bằng cách giải mã chữ ký bằng khóa công khai\n",
    "#Lũy thừa e modulo n => giải mã chữ ký.\n",
    "message = b'Hello Ngoc Huyen. I am Thanh Khang'\n",
    "hash = int.from_bytes(sha512(message).digest(), byteorder='big')\n",
    "hashFromSignature = pow(signature, keyPair.e, keyPair.n)\n",
    "print(\"Nice, the signature is valid!\", hash == hashFromSignature)"
   ]
  },
  {
   "cell_type": "code",
   "execution_count": 13,
   "id": "5a63f7b6",
   "metadata": {},
   "outputs": [
    {
     "name": "stdout",
     "output_type": "stream",
     "text": [
      "No, the message was signed with the wrong private key or modified!  False\n"
     ]
    }
   ],
   "source": [
    "#Gỉa mạo tin nhắn, tấn công chữ ký số\n",
    "message = b'Hello Ngoc Huyen. How is it going ? '\n",
    "hash = int.from_bytes(sha512(message).digest(), byteorder='big')\n",
    "hashFromSignature = pow(signature, keyPair.e, keyPair.n)\n",
    "print(\"No, the message was signed with the wrong private key or modified! \", hash == hashFromSignature)"
   ]
  },
  {
   "cell_type": "code",
   "execution_count": null,
   "id": "a6b06134",
   "metadata": {},
   "outputs": [],
   "source": []
  }
 ],
 "metadata": {
  "kernelspec": {
   "display_name": "Python 3 (ipykernel)",
   "language": "python",
   "name": "python3"
  },
  "language_info": {
   "codemirror_mode": {
    "name": "ipython",
    "version": 3
   },
   "file_extension": ".py",
   "mimetype": "text/x-python",
   "name": "python",
   "nbconvert_exporter": "python",
   "pygments_lexer": "ipython3",
   "version": "3.9.13"
  }
 },
 "nbformat": 4,
 "nbformat_minor": 5
}
